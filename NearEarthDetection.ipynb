{
 "metadata": {
  "name": "",
  "signature": "sha256:986671fe68719a3cb80b89b7d78022d286cbe0bd5bb2b51d2c1938a283dea48a"
 },
 "nbformat": 3,
 "nbformat_minor": 0,
 "worksheets": []
}