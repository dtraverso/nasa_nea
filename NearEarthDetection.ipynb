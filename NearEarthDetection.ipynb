{
 "cells": [
  {
   "cell_type": "code",
   "execution_count": 1,
   "metadata": {
    "collapsed": false
   },
   "outputs": [
    {
     "name": "stderr",
     "output_type": "stream",
     "text": [
      "Vendor:  Continuum Analytics, Inc.\n",
      "Package: mkl\n",
      "Message: license expired\n",
      "\n",
      "    the package mklfft 2.1 was published on 2016-02-09,\n",
      "    however the mkl license expiration date is 2015-11-08.\n",
      "    You may be able to run earlier versions of mklfft using your\n",
      "    current license.  A new license can be purchased at: http://continuum.io\n",
      "    To revert to an earlier set of conda packages, use:\n",
      "    $ conda list --revisions\n",
      "    ...\n",
      "    $ conda install --revision <REVISION NUMBER>\n",
      "\n",
      "    \n",
      "/Users/dtraverso/anaconda/lib/python2.7/site-packages/matplotlib/font_manager.py:273: UserWarning: Matplotlib is building the font cache using fc-list. This may take a moment.\n",
      "  warnings.warn('Matplotlib is building the font cache using fc-list. This may take a moment.')\n"
     ]
    }
   ],
   "source": [
    "import pandas as pd\n",
    "import numpy as np\n",
    "import matplotlib.pyplot as plt\n",
    "import sklearn as sk\n",
    "\n",
    "from sklearn import cross_validation\n",
    "from sklearn import datasets\n",
    "from sklearn import svm\n",
    "\n",
    "from sklearn.discriminant_analysis import LinearDiscriminantAnalysis\n",
    "from sklearn.metrics import confusion_matrix\n",
    "from sklearn.ensemble import RandomForestClassifier\n",
    "from sklearn import linear_model\n"
   ]
  },
  {
   "cell_type": "code",
   "execution_count": 2,
   "metadata": {
    "collapsed": false
   },
   "outputs": [],
   "source": [
    "df_mp = pd.read_json(path_or_buf=\"file://localhost/Users/dtraverso/projects/nasa_nea/data/mpcorb_extended.json\")"
   ]
  },
  {
   "cell_type": "code",
   "execution_count": 3,
   "metadata": {
    "collapsed": false
   },
   "outputs": [
    {
     "data": {
      "text/html": [
       "<div>\n",
       "<table border=\"1\" class=\"dataframe\">\n",
       "  <thead>\n",
       "    <tr style=\"text-align: right;\">\n",
       "      <th></th>\n",
       "      <th>Aphelion_dist</th>\n",
       "      <th>Arc_length</th>\n",
       "      <th>Arc_years</th>\n",
       "      <th>Computer</th>\n",
       "      <th>Critical_list_numbered_object_flag</th>\n",
       "      <th>Epoch</th>\n",
       "      <th>G</th>\n",
       "      <th>H</th>\n",
       "      <th>Hex_flags</th>\n",
       "      <th>Last_obs</th>\n",
       "      <th>...</th>\n",
       "      <th>Ref</th>\n",
       "      <th>Semilatus_rectum</th>\n",
       "      <th>Synodic_period</th>\n",
       "      <th>Tp</th>\n",
       "      <th>U</th>\n",
       "      <th>a</th>\n",
       "      <th>e</th>\n",
       "      <th>i</th>\n",
       "      <th>n</th>\n",
       "      <th>rms</th>\n",
       "    </tr>\n",
       "  </thead>\n",
       "  <tbody>\n",
       "    <tr>\n",
       "      <th>0</th>\n",
       "      <td>2.977808</td>\n",
       "      <td>NaN</td>\n",
       "      <td>1801-2015</td>\n",
       "      <td>MPCLINUX</td>\n",
       "      <td>NaN</td>\n",
       "      <td>2457400.5</td>\n",
       "      <td>0.12</td>\n",
       "      <td>3.34</td>\n",
       "      <td>0000</td>\n",
       "      <td>2015-11-28</td>\n",
       "      <td>...</td>\n",
       "      <td>MPO370963</td>\n",
       "      <td>1.376113</td>\n",
       "      <td>1.277355</td>\n",
       "      <td>2.458235e+06</td>\n",
       "      <td>0</td>\n",
       "      <td>2.768112</td>\n",
       "      <td>0.075754</td>\n",
       "      <td>10.59166</td>\n",
       "      <td>0.214007</td>\n",
       "      <td>0.60</td>\n",
       "    </tr>\n",
       "    <tr>\n",
       "      <th>1</th>\n",
       "      <td>3.412843</td>\n",
       "      <td>NaN</td>\n",
       "      <td>1821-2015</td>\n",
       "      <td>MPCLINUX</td>\n",
       "      <td>NaN</td>\n",
       "      <td>2457400.5</td>\n",
       "      <td>0.11</td>\n",
       "      <td>4.13</td>\n",
       "      <td>0000</td>\n",
       "      <td>2015-10-16</td>\n",
       "      <td>...</td>\n",
       "      <td>MPO350795</td>\n",
       "      <td>1.312198</td>\n",
       "      <td>1.276541</td>\n",
       "      <td>2.456634e+06</td>\n",
       "      <td>0</td>\n",
       "      <td>2.772362</td>\n",
       "      <td>0.231024</td>\n",
       "      <td>34.84095</td>\n",
       "      <td>0.213515</td>\n",
       "      <td>0.58</td>\n",
       "    </tr>\n",
       "    <tr>\n",
       "      <th>2</th>\n",
       "      <td>3.353932</td>\n",
       "      <td>NaN</td>\n",
       "      <td>1821-2015</td>\n",
       "      <td>MPCLINUX</td>\n",
       "      <td>NaN</td>\n",
       "      <td>2457400.5</td>\n",
       "      <td>0.32</td>\n",
       "      <td>5.33</td>\n",
       "      <td>0000</td>\n",
       "      <td>2015-12-18</td>\n",
       "      <td>...</td>\n",
       "      <td>MPO370963</td>\n",
       "      <td>1.247217</td>\n",
       "      <td>1.297421</td>\n",
       "      <td>2.456854e+06</td>\n",
       "      <td>0</td>\n",
       "      <td>2.669763</td>\n",
       "      <td>0.256266</td>\n",
       "      <td>12.98987</td>\n",
       "      <td>0.225941</td>\n",
       "      <td>0.60</td>\n",
       "    </tr>\n",
       "    <tr>\n",
       "      <th>3</th>\n",
       "      <td>2.571675</td>\n",
       "      <td>NaN</td>\n",
       "      <td>1821-2015</td>\n",
       "      <td>MPCLINUX</td>\n",
       "      <td>NaN</td>\n",
       "      <td>2457400.5</td>\n",
       "      <td>0.32</td>\n",
       "      <td>3.20</td>\n",
       "      <td>0000</td>\n",
       "      <td>2015-12-15</td>\n",
       "      <td>...</td>\n",
       "      <td>MPO370963</td>\n",
       "      <td>1.171498</td>\n",
       "      <td>1.380322</td>\n",
       "      <td>2.456924e+06</td>\n",
       "      <td>0</td>\n",
       "      <td>2.361670</td>\n",
       "      <td>0.088922</td>\n",
       "      <td>7.14005</td>\n",
       "      <td>0.271566</td>\n",
       "      <td>0.60</td>\n",
       "    </tr>\n",
       "    <tr>\n",
       "      <th>4</th>\n",
       "      <td>3.066885</td>\n",
       "      <td>NaN</td>\n",
       "      <td>1845-2015</td>\n",
       "      <td>MPCLINUX</td>\n",
       "      <td>NaN</td>\n",
       "      <td>2457400.5</td>\n",
       "      <td>0.15</td>\n",
       "      <td>6.85</td>\n",
       "      <td>0000</td>\n",
       "      <td>2015-12-20</td>\n",
       "      <td>...</td>\n",
       "      <td>MPO370963</td>\n",
       "      <td>1.239938</td>\n",
       "      <td>1.319481</td>\n",
       "      <td>2.457419e+06</td>\n",
       "      <td>0</td>\n",
       "      <td>2.574181</td>\n",
       "      <td>0.191402</td>\n",
       "      <td>5.36846</td>\n",
       "      <td>0.238641</td>\n",
       "      <td>0.58</td>\n",
       "    </tr>\n",
       "  </tbody>\n",
       "</table>\n",
       "<p>5 rows × 37 columns</p>\n",
       "</div>"
      ],
      "text/plain": [
       "   Aphelion_dist  Arc_length  Arc_years  Computer  \\\n",
       "0       2.977808         NaN  1801-2015  MPCLINUX   \n",
       "1       3.412843         NaN  1821-2015  MPCLINUX   \n",
       "2       3.353932         NaN  1821-2015  MPCLINUX   \n",
       "3       2.571675         NaN  1821-2015  MPCLINUX   \n",
       "4       3.066885         NaN  1845-2015  MPCLINUX   \n",
       "\n",
       "   Critical_list_numbered_object_flag      Epoch     G     H Hex_flags  \\\n",
       "0                                 NaN  2457400.5  0.12  3.34      0000   \n",
       "1                                 NaN  2457400.5  0.11  4.13      0000   \n",
       "2                                 NaN  2457400.5  0.32  5.33      0000   \n",
       "3                                 NaN  2457400.5  0.32  3.20      0000   \n",
       "4                                 NaN  2457400.5  0.15  6.85      0000   \n",
       "\n",
       "     Last_obs  ...         Ref  Semilatus_rectum Synodic_period            Tp  \\\n",
       "0  2015-11-28  ...   MPO370963          1.376113       1.277355  2.458235e+06   \n",
       "1  2015-10-16  ...   MPO350795          1.312198       1.276541  2.456634e+06   \n",
       "2  2015-12-18  ...   MPO370963          1.247217       1.297421  2.456854e+06   \n",
       "3  2015-12-15  ...   MPO370963          1.171498       1.380322  2.456924e+06   \n",
       "4  2015-12-20  ...   MPO370963          1.239938       1.319481  2.457419e+06   \n",
       "\n",
       "   U         a         e         i         n   rms  \n",
       "0  0  2.768112  0.075754  10.59166  0.214007  0.60  \n",
       "1  0  2.772362  0.231024  34.84095  0.213515  0.58  \n",
       "2  0  2.669763  0.256266  12.98987  0.225941  0.60  \n",
       "3  0  2.361670  0.088922   7.14005  0.271566  0.60  \n",
       "4  0  2.574181  0.191402   5.36846  0.238641  0.58  \n",
       "\n",
       "[5 rows x 37 columns]"
      ]
     },
     "execution_count": 3,
     "metadata": {},
     "output_type": "execute_result"
    }
   ],
   "source": [
    "df_mp.head()"
   ]
  },
  {
   "cell_type": "code",
   "execution_count": 4,
   "metadata": {
    "collapsed": false
   },
   "outputs": [],
   "source": [
    "df_nea = pd.read_json(path_or_buf=\"file://localhost/Users/dtraverso/projects/nasa_nea/data/nea_extended.json\")"
   ]
  },
  {
   "cell_type": "code",
   "execution_count": 5,
   "metadata": {
    "collapsed": false
   },
   "outputs": [
    {
     "data": {
      "text/html": [
       "<div>\n",
       "<table border=\"1\" class=\"dataframe\">\n",
       "  <thead>\n",
       "    <tr style=\"text-align: right;\">\n",
       "      <th></th>\n",
       "      <th>Aphelion_dist</th>\n",
       "      <th>Arc_length</th>\n",
       "      <th>Arc_years</th>\n",
       "      <th>Computer</th>\n",
       "      <th>Critical_list_numbered_object_flag</th>\n",
       "      <th>Epoch</th>\n",
       "      <th>G</th>\n",
       "      <th>H</th>\n",
       "      <th>Hex_flags</th>\n",
       "      <th>Last_obs</th>\n",
       "      <th>...</th>\n",
       "      <th>Ref</th>\n",
       "      <th>Semilatus_rectum</th>\n",
       "      <th>Synodic_period</th>\n",
       "      <th>Tp</th>\n",
       "      <th>U</th>\n",
       "      <th>a</th>\n",
       "      <th>e</th>\n",
       "      <th>i</th>\n",
       "      <th>n</th>\n",
       "      <th>rms</th>\n",
       "    </tr>\n",
       "  </thead>\n",
       "  <tbody>\n",
       "    <tr>\n",
       "      <th>0</th>\n",
       "      <td>1.782516</td>\n",
       "      <td>NaN</td>\n",
       "      <td>1893-2014</td>\n",
       "      <td>MPCLINUX</td>\n",
       "      <td>NaN</td>\n",
       "      <td>2457400.5</td>\n",
       "      <td>0.46</td>\n",
       "      <td>11.16</td>\n",
       "      <td>1804</td>\n",
       "      <td>2014-12-22</td>\n",
       "      <td>...</td>\n",
       "      <td>MPO355095</td>\n",
       "      <td>0.692794</td>\n",
       "      <td>2.315305</td>\n",
       "      <td>2.457230e+06</td>\n",
       "      <td>0</td>\n",
       "      <td>1.457878</td>\n",
       "      <td>0.222679</td>\n",
       "      <td>10.82861</td>\n",
       "      <td>0.559915</td>\n",
       "      <td>0.66</td>\n",
       "    </tr>\n",
       "    <tr>\n",
       "      <th>1</th>\n",
       "      <td>4.083845</td>\n",
       "      <td>NaN</td>\n",
       "      <td>1911-2016</td>\n",
       "      <td>MPCLINUX</td>\n",
       "      <td>NaN</td>\n",
       "      <td>2457400.5</td>\n",
       "      <td>0.15</td>\n",
       "      <td>15.50</td>\n",
       "      <td>1804</td>\n",
       "      <td>2016-02-06</td>\n",
       "      <td>...</td>\n",
       "      <td>MPO365250</td>\n",
       "      <td>0.917080</td>\n",
       "      <td>1.305524</td>\n",
       "      <td>2.456825e+06</td>\n",
       "      <td>0</td>\n",
       "      <td>2.633253</td>\n",
       "      <td>0.550874</td>\n",
       "      <td>11.56459</td>\n",
       "      <td>0.230656</td>\n",
       "      <td>0.42</td>\n",
       "    </tr>\n",
       "    <tr>\n",
       "      <th>2</th>\n",
       "      <td>3.884757</td>\n",
       "      <td>NaN</td>\n",
       "      <td>1918-2015</td>\n",
       "      <td>MPCLINUX</td>\n",
       "      <td>NaN</td>\n",
       "      <td>2457400.5</td>\n",
       "      <td>-0.12</td>\n",
       "      <td>13.40</td>\n",
       "      <td>1804</td>\n",
       "      <td>2015-07-06</td>\n",
       "      <td>...</td>\n",
       "      <td>MPO365253</td>\n",
       "      <td>0.840627</td>\n",
       "      <td>1.344521</td>\n",
       "      <td>2.457835e+06</td>\n",
       "      <td>0</td>\n",
       "      <td>2.478760</td>\n",
       "      <td>0.567217</td>\n",
       "      <td>9.35748</td>\n",
       "      <td>0.252553</td>\n",
       "      <td>0.73</td>\n",
       "    </tr>\n",
       "    <tr>\n",
       "      <th>3</th>\n",
       "      <td>4.085337</td>\n",
       "      <td>NaN</td>\n",
       "      <td>1924-2015</td>\n",
       "      <td>MPCLINUX</td>\n",
       "      <td>NaN</td>\n",
       "      <td>2457400.5</td>\n",
       "      <td>0.30</td>\n",
       "      <td>9.45</td>\n",
       "      <td>1804</td>\n",
       "      <td>2015-11-27</td>\n",
       "      <td>...</td>\n",
       "      <td>MPO370975</td>\n",
       "      <td>0.951983</td>\n",
       "      <td>1.298833</td>\n",
       "      <td>2.457392e+06</td>\n",
       "      <td>0</td>\n",
       "      <td>2.663276</td>\n",
       "      <td>0.533951</td>\n",
       "      <td>26.69239</td>\n",
       "      <td>0.226767</td>\n",
       "      <td>0.46</td>\n",
       "    </tr>\n",
       "    <tr>\n",
       "      <th>4</th>\n",
       "      <td>2.755192</td>\n",
       "      <td>NaN</td>\n",
       "      <td>1932-2015</td>\n",
       "      <td>MPCW</td>\n",
       "      <td>NaN</td>\n",
       "      <td>2457400.5</td>\n",
       "      <td>0.15</td>\n",
       "      <td>17.70</td>\n",
       "      <td>1804</td>\n",
       "      <td>2015-09-18</td>\n",
       "      <td>...</td>\n",
       "      <td>MPO347525</td>\n",
       "      <td>0.777716</td>\n",
       "      <td>1.602716</td>\n",
       "      <td>2.456954e+06</td>\n",
       "      <td>0</td>\n",
       "      <td>1.919387</td>\n",
       "      <td>0.435455</td>\n",
       "      <td>11.87965</td>\n",
       "      <td>0.370647</td>\n",
       "      <td>1.25</td>\n",
       "    </tr>\n",
       "  </tbody>\n",
       "</table>\n",
       "<p>5 rows × 37 columns</p>\n",
       "</div>"
      ],
      "text/plain": [
       "   Aphelion_dist  Arc_length  Arc_years  Computer  \\\n",
       "0       1.782516         NaN  1893-2014  MPCLINUX   \n",
       "1       4.083845         NaN  1911-2016  MPCLINUX   \n",
       "2       3.884757         NaN  1918-2015  MPCLINUX   \n",
       "3       4.085337         NaN  1924-2015  MPCLINUX   \n",
       "4       2.755192         NaN  1932-2015      MPCW   \n",
       "\n",
       "   Critical_list_numbered_object_flag      Epoch     G      H Hex_flags  \\\n",
       "0                                 NaN  2457400.5  0.46  11.16      1804   \n",
       "1                                 NaN  2457400.5  0.15  15.50      1804   \n",
       "2                                 NaN  2457400.5 -0.12  13.40      1804   \n",
       "3                                 NaN  2457400.5  0.30   9.45      1804   \n",
       "4                                 NaN  2457400.5  0.15  17.70      1804   \n",
       "\n",
       "     Last_obs  ...         Ref  Semilatus_rectum Synodic_period            Tp  \\\n",
       "0  2014-12-22  ...   MPO355095          0.692794       2.315305  2.457230e+06   \n",
       "1  2016-02-06  ...   MPO365250          0.917080       1.305524  2.456825e+06   \n",
       "2  2015-07-06  ...   MPO365253          0.840627       1.344521  2.457835e+06   \n",
       "3  2015-11-27  ...   MPO370975          0.951983       1.298833  2.457392e+06   \n",
       "4  2015-09-18  ...   MPO347525          0.777716       1.602716  2.456954e+06   \n",
       "\n",
       "   U         a         e         i         n   rms  \n",
       "0  0  1.457878  0.222679  10.82861  0.559915  0.66  \n",
       "1  0  2.633253  0.550874  11.56459  0.230656  0.42  \n",
       "2  0  2.478760  0.567217   9.35748  0.252553  0.73  \n",
       "3  0  2.663276  0.533951  26.69239  0.226767  0.46  \n",
       "4  0  1.919387  0.435455  11.87965  0.370647  1.25  \n",
       "\n",
       "[5 rows x 37 columns]"
      ]
     },
     "execution_count": 5,
     "metadata": {},
     "output_type": "execute_result"
    }
   ],
   "source": [
    "df_nea.head()"
   ]
  },
  {
   "cell_type": "code",
   "execution_count": 6,
   "metadata": {
    "collapsed": false
   },
   "outputs": [],
   "source": [
    "# Join MP and NEA dataframes to prepare for using drop duplicates function, which will remove all row instances \n",
    "# that have duplicates. This will provide us with an MP set without any NEA records in it.\n",
    "df_mp_dups = pd.concat([df_mp, df_nea])\n",
    "\n",
    "# Dropping duplicates based on columns that are highly probable to have unique values per-row\n",
    "df_mp_pure = df_mp_dups.drop_duplicates(subset=['Peri', 'n'], keep=False)"
   ]
  },
  {
   "cell_type": "code",
   "execution_count": 7,
   "metadata": {
    "collapsed": false
   },
   "outputs": [],
   "source": [
    "# Creating the PHA set from all rows in NEA set that have the PHA flag set to true (1)\n",
    "df_pha = df_nea[df_nea['PHA_flag'] == 1]"
   ]
  },
  {
   "cell_type": "code",
   "execution_count": 8,
   "metadata": {
    "collapsed": false
   },
   "outputs": [],
   "source": [
    "# Purifying the NEA set to remove any PHA records -- non-PHA records do not have the PHA flag field\n",
    "df_nea_pure = df_nea[df_nea['PHA_flag'].isnull()]"
   ]
  },
  {
   "cell_type": "code",
   "execution_count": 9,
   "metadata": {
    "collapsed": false
   },
   "outputs": [
    {
     "name": "stdout",
     "output_type": "stream",
     "text": [
      "Master Set Count = 699486\n",
      "NEA Set Count = 12418\n",
      "PHA Set Count = 1679\n"
     ]
    }
   ],
   "source": [
    "print 'Master Set Count =', len(df_mp_pure.index)\n",
    "print 'NEA Set Count =', len(df_nea_pure.index)\n",
    "print 'PHA Set Count =', len(df_pha.index)"
   ]
  },
  {
   "cell_type": "code",
   "execution_count": 10,
   "metadata": {
    "collapsed": false
   },
   "outputs": [
    {
     "name": "stderr",
     "output_type": "stream",
     "text": [
      "/Users/dtraverso/anaconda/lib/python2.7/site-packages/ipykernel/__main__.py:2: SettingWithCopyWarning: \n",
      "A value is trying to be set on a copy of a slice from a DataFrame.\n",
      "Try using .loc[row_indexer,col_indexer] = value instead\n",
      "\n",
      "See the caveats in the documentation: http://pandas.pydata.org/pandas-docs/stable/indexing.html#indexing-view-versus-copy\n",
      "  from ipykernel import kernelapp as app\n",
      "/Users/dtraverso/anaconda/lib/python2.7/site-packages/ipykernel/__main__.py:3: SettingWithCopyWarning: \n",
      "A value is trying to be set on a copy of a slice from a DataFrame.\n",
      "Try using .loc[row_indexer,col_indexer] = value instead\n",
      "\n",
      "See the caveats in the documentation: http://pandas.pydata.org/pandas-docs/stable/indexing.html#indexing-view-versus-copy\n",
      "  app.launch_new_instance()\n",
      "/Users/dtraverso/anaconda/lib/python2.7/site-packages/ipykernel/__main__.py:4: SettingWithCopyWarning: \n",
      "A value is trying to be set on a copy of a slice from a DataFrame.\n",
      "Try using .loc[row_indexer,col_indexer] = value instead\n",
      "\n",
      "See the caveats in the documentation: http://pandas.pydata.org/pandas-docs/stable/indexing.html#indexing-view-versus-copy\n"
     ]
    }
   ],
   "source": [
    "# Adding Labels to the data, 2 = MP, 1 = NEA, 0 = PHA\n",
    "df_mp_pure['Label'] = 2\n",
    "df_nea_pure['Label'] = 1\n",
    "df_pha['Label'] = 0"
   ]
  },
  {
   "cell_type": "code",
   "execution_count": 11,
   "metadata": {
    "collapsed": false
   },
   "outputs": [],
   "source": [
    "# Join the purified sets together in preparation for feeding this cumulative set to classifiers for training & testing.\n",
    "df_joined = pd.concat([df_mp_pure, df_nea_pure, df_pha])"
   ]
  },
  {
   "cell_type": "code",
   "execution_count": 12,
   "metadata": {
    "collapsed": false
   },
   "outputs": [
    {
     "data": {
      "text/html": [
       "<div>\n",
       "<table border=\"1\" class=\"dataframe\">\n",
       "  <thead>\n",
       "    <tr style=\"text-align: right;\">\n",
       "      <th></th>\n",
       "      <th>Aphelion_dist</th>\n",
       "      <th>Arc_length</th>\n",
       "      <th>Arc_years</th>\n",
       "      <th>Computer</th>\n",
       "      <th>Critical_list_numbered_object_flag</th>\n",
       "      <th>Epoch</th>\n",
       "      <th>G</th>\n",
       "      <th>H</th>\n",
       "      <th>Hex_flags</th>\n",
       "      <th>Last_obs</th>\n",
       "      <th>...</th>\n",
       "      <th>Semilatus_rectum</th>\n",
       "      <th>Synodic_period</th>\n",
       "      <th>Tp</th>\n",
       "      <th>U</th>\n",
       "      <th>a</th>\n",
       "      <th>e</th>\n",
       "      <th>i</th>\n",
       "      <th>n</th>\n",
       "      <th>rms</th>\n",
       "      <th>Label</th>\n",
       "    </tr>\n",
       "  </thead>\n",
       "  <tbody>\n",
       "    <tr>\n",
       "      <th>0</th>\n",
       "      <td>2.977808</td>\n",
       "      <td>NaN</td>\n",
       "      <td>1801-2015</td>\n",
       "      <td>MPCLINUX</td>\n",
       "      <td>NaN</td>\n",
       "      <td>2457400.5</td>\n",
       "      <td>0.12</td>\n",
       "      <td>3.34</td>\n",
       "      <td>0000</td>\n",
       "      <td>2015-11-28</td>\n",
       "      <td>...</td>\n",
       "      <td>1.376113</td>\n",
       "      <td>1.277355</td>\n",
       "      <td>2.458235e+06</td>\n",
       "      <td>0</td>\n",
       "      <td>2.768112</td>\n",
       "      <td>0.075754</td>\n",
       "      <td>10.59166</td>\n",
       "      <td>0.214007</td>\n",
       "      <td>0.60</td>\n",
       "      <td>2</td>\n",
       "    </tr>\n",
       "    <tr>\n",
       "      <th>1</th>\n",
       "      <td>3.412843</td>\n",
       "      <td>NaN</td>\n",
       "      <td>1821-2015</td>\n",
       "      <td>MPCLINUX</td>\n",
       "      <td>NaN</td>\n",
       "      <td>2457400.5</td>\n",
       "      <td>0.11</td>\n",
       "      <td>4.13</td>\n",
       "      <td>0000</td>\n",
       "      <td>2015-10-16</td>\n",
       "      <td>...</td>\n",
       "      <td>1.312198</td>\n",
       "      <td>1.276541</td>\n",
       "      <td>2.456634e+06</td>\n",
       "      <td>0</td>\n",
       "      <td>2.772362</td>\n",
       "      <td>0.231024</td>\n",
       "      <td>34.84095</td>\n",
       "      <td>0.213515</td>\n",
       "      <td>0.58</td>\n",
       "      <td>2</td>\n",
       "    </tr>\n",
       "    <tr>\n",
       "      <th>2</th>\n",
       "      <td>3.353932</td>\n",
       "      <td>NaN</td>\n",
       "      <td>1821-2015</td>\n",
       "      <td>MPCLINUX</td>\n",
       "      <td>NaN</td>\n",
       "      <td>2457400.5</td>\n",
       "      <td>0.32</td>\n",
       "      <td>5.33</td>\n",
       "      <td>0000</td>\n",
       "      <td>2015-12-18</td>\n",
       "      <td>...</td>\n",
       "      <td>1.247217</td>\n",
       "      <td>1.297421</td>\n",
       "      <td>2.456854e+06</td>\n",
       "      <td>0</td>\n",
       "      <td>2.669763</td>\n",
       "      <td>0.256266</td>\n",
       "      <td>12.98987</td>\n",
       "      <td>0.225941</td>\n",
       "      <td>0.60</td>\n",
       "      <td>2</td>\n",
       "    </tr>\n",
       "    <tr>\n",
       "      <th>3</th>\n",
       "      <td>2.571675</td>\n",
       "      <td>NaN</td>\n",
       "      <td>1821-2015</td>\n",
       "      <td>MPCLINUX</td>\n",
       "      <td>NaN</td>\n",
       "      <td>2457400.5</td>\n",
       "      <td>0.32</td>\n",
       "      <td>3.20</td>\n",
       "      <td>0000</td>\n",
       "      <td>2015-12-15</td>\n",
       "      <td>...</td>\n",
       "      <td>1.171498</td>\n",
       "      <td>1.380322</td>\n",
       "      <td>2.456924e+06</td>\n",
       "      <td>0</td>\n",
       "      <td>2.361670</td>\n",
       "      <td>0.088922</td>\n",
       "      <td>7.14005</td>\n",
       "      <td>0.271566</td>\n",
       "      <td>0.60</td>\n",
       "      <td>2</td>\n",
       "    </tr>\n",
       "    <tr>\n",
       "      <th>4</th>\n",
       "      <td>3.066885</td>\n",
       "      <td>NaN</td>\n",
       "      <td>1845-2015</td>\n",
       "      <td>MPCLINUX</td>\n",
       "      <td>NaN</td>\n",
       "      <td>2457400.5</td>\n",
       "      <td>0.15</td>\n",
       "      <td>6.85</td>\n",
       "      <td>0000</td>\n",
       "      <td>2015-12-20</td>\n",
       "      <td>...</td>\n",
       "      <td>1.239938</td>\n",
       "      <td>1.319481</td>\n",
       "      <td>2.457419e+06</td>\n",
       "      <td>0</td>\n",
       "      <td>2.574181</td>\n",
       "      <td>0.191402</td>\n",
       "      <td>5.36846</td>\n",
       "      <td>0.238641</td>\n",
       "      <td>0.58</td>\n",
       "      <td>2</td>\n",
       "    </tr>\n",
       "  </tbody>\n",
       "</table>\n",
       "<p>5 rows × 38 columns</p>\n",
       "</div>"
      ],
      "text/plain": [
       "   Aphelion_dist  Arc_length  Arc_years  Computer  \\\n",
       "0       2.977808         NaN  1801-2015  MPCLINUX   \n",
       "1       3.412843         NaN  1821-2015  MPCLINUX   \n",
       "2       3.353932         NaN  1821-2015  MPCLINUX   \n",
       "3       2.571675         NaN  1821-2015  MPCLINUX   \n",
       "4       3.066885         NaN  1845-2015  MPCLINUX   \n",
       "\n",
       "   Critical_list_numbered_object_flag      Epoch     G     H Hex_flags  \\\n",
       "0                                 NaN  2457400.5  0.12  3.34      0000   \n",
       "1                                 NaN  2457400.5  0.11  4.13      0000   \n",
       "2                                 NaN  2457400.5  0.32  5.33      0000   \n",
       "3                                 NaN  2457400.5  0.32  3.20      0000   \n",
       "4                                 NaN  2457400.5  0.15  6.85      0000   \n",
       "\n",
       "     Last_obs  ...    Semilatus_rectum  Synodic_period            Tp  U  \\\n",
       "0  2015-11-28  ...            1.376113        1.277355  2.458235e+06  0   \n",
       "1  2015-10-16  ...            1.312198        1.276541  2.456634e+06  0   \n",
       "2  2015-12-18  ...            1.247217        1.297421  2.456854e+06  0   \n",
       "3  2015-12-15  ...            1.171498        1.380322  2.456924e+06  0   \n",
       "4  2015-12-20  ...            1.239938        1.319481  2.457419e+06  0   \n",
       "\n",
       "          a         e         i         n   rms  Label  \n",
       "0  2.768112  0.075754  10.59166  0.214007  0.60      2  \n",
       "1  2.772362  0.231024  34.84095  0.213515  0.58      2  \n",
       "2  2.669763  0.256266  12.98987  0.225941  0.60      2  \n",
       "3  2.361670  0.088922   7.14005  0.271566  0.60      2  \n",
       "4  2.574181  0.191402   5.36846  0.238641  0.58      2  \n",
       "\n",
       "[5 rows x 38 columns]"
      ]
     },
     "execution_count": 12,
     "metadata": {},
     "output_type": "execute_result"
    }
   ],
   "source": [
    "df_joined.head()"
   ]
  },
  {
   "cell_type": "code",
   "execution_count": 13,
   "metadata": {
    "collapsed": false
   },
   "outputs": [
    {
     "data": {
      "text/plain": [
       "Aphelion_dist                         float64\n",
       "Critical_list_numbered_object_flag    float64\n",
       "Epoch                                 float64\n",
       "G                                     float64\n",
       "H                                     float64\n",
       "M                                     float64\n",
       "Node                                  float64\n",
       "Num_obs                               float64\n",
       "Num_opps                                int64\n",
       "One_km_NEO_flag                       float64\n",
       "One_opposition_object_flag            float64\n",
       "Orbital_period                        float64\n",
       "Peri                                  float64\n",
       "Perihelion_dist                       float64\n",
       "Semilatus_rectum                      float64\n",
       "Synodic_period                        float64\n",
       "Tp                                    float64\n",
       "a                                     float64\n",
       "e                                     float64\n",
       "i                                     float64\n",
       "n                                     float64\n",
       "rms                                   float64\n",
       "Label                                   int64\n",
       "dtype: object"
      ]
     },
     "execution_count": 13,
     "metadata": {},
     "output_type": "execute_result"
    }
   ],
   "source": [
    "# Deleting unrelevant features from the dataset. Many of these columns are of 'String' or 'Object' type,\n",
    "# and we are intentionally narrowing the set to float64 type fields for numerical analysis.\n",
    "df_joined = df_joined.copy().drop(['Hex_flags', 'Last_obs', 'Name', 'Number','Arc_years','Other_desigs',\n",
    "                            'Perturbers', 'Computer','Perturbers_2', 'Principal_desig', 'Ref', 'U', 'Arc_length'],axis=1)       \n",
    "\n",
    "# Deprecated removal of additional fields for testing / debugging, ignore!\n",
    "# df_joined = df_joined.copy().drop(['Num_obs', 'G',\n",
    "#                                   'Critical_list_numbered_object_flag',  'Node', 'Peri', 'NEO_flag', \n",
    "#                                   'Num_opps', 'One_km_NEO_flag', 'One_opposition_object_flag', 'Orbital_period',\n",
    "#                                   'PHA_flag', 'Semilatus_rectum', 'Synodic_period', 'rms',  'Tp','H'],\n",
    "#                           axis=1)\n",
    "\n",
    "df_joined = df_joined.copy().drop([ 'NEO_flag','PHA_flag'],\n",
    "                          axis=1)\n",
    "\n",
    "# Substitute null values with 0s, or most scikit-learn classifiers will throw errors\n",
    "df_joined = df_joined.fillna(0.0)\n",
    "# Print the remaining features in the massaged dataset.\n",
    "df_joined.dtypes"
   ]
  },
  {
   "cell_type": "code",
   "execution_count": 14,
   "metadata": {
    "collapsed": false
   },
   "outputs": [
    {
     "data": {
      "text/plain": [
       "Index([u'Aphelion_dist', u'Critical_list_numbered_object_flag', u'Epoch', u'G',\n",
       "       u'H', u'M', u'Node', u'Num_obs', u'Num_opps', u'One_km_NEO_flag',\n",
       "       u'One_opposition_object_flag', u'Orbital_period', u'Peri',\n",
       "       u'Perihelion_dist', u'Semilatus_rectum', u'Synodic_period', u'Tp', u'a',\n",
       "       u'e', u'i', u'n', u'rms'],\n",
       "      dtype='object')"
      ]
     },
     "execution_count": 14,
     "metadata": {},
     "output_type": "execute_result"
    }
   ],
   "source": [
    "# Extract the Label column as a Pandas Series from the master set. This will be used for training / testing as \n",
    "# our Y.\n",
    "sr_label = df_joined['Label']\n",
    "\n",
    "# Drop the Label column from the master data set now that we have isolated it as a Series\n",
    "df_joined = df_joined.drop('Label', axis=1)\n",
    "\n",
    "# List current cumulative set columns to confirm correctness.\n",
    "df_joined.columns"
   ]
  },
  {
   "cell_type": "code",
   "execution_count": 15,
   "metadata": {
    "collapsed": false
   },
   "outputs": [],
   "source": [
    "# Make train and test sets, using cumulative DataFrame and Labels Series. Setting test data proportion to \n",
    "# 25% of total.\n",
    "X_train, X_test, y_train, y_test = cross_validation.train_test_split(df_joined, sr_label, test_size=.25, random_state=0)"
   ]
  },
  {
   "cell_type": "code",
   "execution_count": 16,
   "metadata": {
    "collapsed": false
   },
   "outputs": [
    {
     "name": "stdout",
     "output_type": "stream",
     "text": [
      "(535187, 22)\n",
      "(178396, 22)\n",
      "(535187,)\n",
      "(178396,)\n"
     ]
    }
   ],
   "source": [
    "# Print the shapes of the training & test data to ensure all sets are in the expected dimensions.\n",
    "print X_train.shape\n",
    "print X_test.shape\n",
    "print y_train.shape\n",
    "print y_test.shape"
   ]
  },
  {
   "cell_type": "code",
   "execution_count": 17,
   "metadata": {
    "collapsed": false
   },
   "outputs": [],
   "source": [
    "# We've commented out the SVM classifier as it was taking an unreasonably long processing time (hours...)\n",
    "# clf = svm.SVC(kernel='linear', C=1)\n",
    "# scores = cross_validation.cross_val_score(clf, X_train, y_train, cv=3, scoring=\"f1_weighted\")\n",
    "# fitted = clf.fit(X_train, y_train)\n",
    "# clf.score(X_test, y_test)\n",
    "# print scores"
   ]
  },
  {
   "cell_type": "code",
   "execution_count": 18,
   "metadata": {
    "collapsed": false
   },
   "outputs": [
    {
     "name": "stderr",
     "output_type": "stream",
     "text": [
      "/Users/dtraverso/anaconda/lib/python2.7/site-packages/sklearn/discriminant_analysis.py:387: UserWarning: Variables are collinear.\n",
      "  warnings.warn(\"Variables are collinear.\")\n"
     ]
    },
    {
     "name": "stdout",
     "output_type": "stream",
     "text": [
      "Linear Discriminant Analysis --- Confusion matrix, without normalization\n",
      "[[   234    155     22]\n",
      " [   731   2109    285]\n",
      " [   136    194 174530]]\n",
      "Linear Discriminant Analysis --- Normalized confusion matrix\n",
      "[[  5.69e-01   3.77e-01   5.35e-02]\n",
      " [  2.34e-01   6.75e-01   9.12e-02]\n",
      " [  7.78e-04   1.11e-03   9.98e-01]]\n"
     ]
    }
   ],
   "source": [
    "#-----  Linear Discriminant Analysis w/ SVD\n",
    "clf = LinearDiscriminantAnalysis()\n",
    "clf.fit(X_train, y_train)\n",
    "LinearDiscriminantAnalysis(n_components=None, priors=None, shrinkage=None,\n",
    "                           solver='svd', store_covariance=False, tol=0.0001)\n",
    "y_pred = clf.predict(X_test)\n",
    "clf.score(X_test, y_test)\n",
    "\n",
    "# Compute confusion matrix\n",
    "cm = confusion_matrix(y_test, y_pred)\n",
    "np.set_printoptions(precision=2)\n",
    "print('Linear Discriminant Analysis --- Confusion matrix, without normalization')\n",
    "print(cm)\n",
    "#plt.figure()\n",
    "#plot_confusion_matrix(cm)\n",
    "\n",
    "# Normalize the confusion matrix by row (i.e by the number of samples\n",
    "# in each class)\n",
    "cm_normalized = cm.astype('float') / cm.sum(axis=1)[:, np.newaxis]\n",
    "print('Linear Discriminant Analysis --- Normalized confusion matrix')\n",
    "print(cm_normalized)"
   ]
  },
  {
   "cell_type": "code",
   "execution_count": 19,
   "metadata": {
    "collapsed": false
   },
   "outputs": [
    {
     "name": "stdout",
     "output_type": "stream",
     "text": [
      "Linear Discriminant Analysis Score\n"
     ]
    },
    {
     "data": {
      "text/plain": [
       "0.99146281306755757"
      ]
     },
     "execution_count": 19,
     "metadata": {},
     "output_type": "execute_result"
    }
   ],
   "source": [
    "print('Linear Discriminant Analysis Score')\n",
    "clf.score(X_test, y_test)"
   ]
  },
  {
   "cell_type": "code",
   "execution_count": 20,
   "metadata": {
    "collapsed": false
   },
   "outputs": [],
   "source": [
    "#-----  LogisticRegression\n",
    "\n",
    "lr = linear_model.LogisticRegression(penalty='l1',dual=False,max_iter =100 )\n",
    "lr.fit(X_train,y_train)\n",
    "lr.score(X_test,y_test)\n",
    "\n",
    "y_pred = lr.predict(X_test)"
   ]
  },
  {
   "cell_type": "code",
   "execution_count": 21,
   "metadata": {
    "collapsed": false
   },
   "outputs": [
    {
     "name": "stdout",
     "output_type": "stream",
     "text": [
      "Logistic Regression Score\n"
     ]
    },
    {
     "data": {
      "text/plain": [
       "0.9962835489584968"
      ]
     },
     "execution_count": 21,
     "metadata": {},
     "output_type": "execute_result"
    }
   ],
   "source": [
    "print('Logistic Regression Score')\n",
    "lr.score(X_test,y_test)"
   ]
  },
  {
   "cell_type": "code",
   "execution_count": 22,
   "metadata": {
    "collapsed": false
   },
   "outputs": [
    {
     "name": "stdout",
     "output_type": "stream",
     "text": [
      "Logistic Regression --- Confusion matrix, without normalization\n",
      "[[    16    395      0]\n",
      " [    18   2888    219]\n",
      " [     0     31 174829]]\n",
      "Logistic Regression --- Normalized confusion matrix\n",
      "[[  3.89e-02   9.61e-01   0.00e+00]\n",
      " [  5.76e-03   9.24e-01   7.01e-02]\n",
      " [  0.00e+00   1.77e-04   1.00e+00]]\n"
     ]
    }
   ],
   "source": [
    "# Compute confusion matrix\n",
    "cm = confusion_matrix(y_test, y_pred)\n",
    "np.set_printoptions(precision=2)\n",
    "print('Logistic Regression --- Confusion matrix, without normalization')\n",
    "print(cm)\n",
    "#plt.figure()\n",
    "#plot_confusion_matrix(cm)\n",
    "\n",
    "# Normalize the confusion matrix by row (i.e by the number of samples\n",
    "# in each class)\n",
    "cm_normalized = cm.astype('float') / cm.sum(axis=1)[:, np.newaxis]\n",
    "print('Logistic Regression --- Normalized confusion matrix')\n",
    "print(cm_normalized)\n"
   ]
  },
  {
   "cell_type": "code",
   "execution_count": 23,
   "metadata": {
    "collapsed": false
   },
   "outputs": [
    {
     "name": "stdout",
     "output_type": "stream",
     "text": [
      "Random FOrest Classifier Score\n"
     ]
    },
    {
     "data": {
      "text/plain": [
       "0.99842485257516989"
      ]
     },
     "execution_count": 23,
     "metadata": {},
     "output_type": "execute_result"
    }
   ],
   "source": [
    "#-----  Random Forest Classifier\n",
    "\n",
    "rfc = RandomForestClassifier(n_estimators=100)\n",
    "rfc.fit(X_train,y_train)\n",
    "\n",
    "y_pred = rfc.predict(X_test)\n",
    "print('Random FOrest Classifier Score')\n",
    "rfc.score(X_test,y_test)\n"
   ]
  },
  {
   "cell_type": "code",
   "execution_count": 24,
   "metadata": {
    "collapsed": false
   },
   "outputs": [
    {
     "name": "stdout",
     "output_type": "stream",
     "text": [
      "Random FOrest Classifier --- Confusion matrix, without normalization\n",
      "[[   182    229      0]\n",
      " [    51   3073      1]\n",
      " [     0      0 174860]]\n",
      "Random FOrest Classifier --- Normalized confusion matrix\n",
      "[[  4.43e-01   5.57e-01   0.00e+00]\n",
      " [  1.63e-02   9.83e-01   3.20e-04]\n",
      " [  0.00e+00   0.00e+00   1.00e+00]]\n"
     ]
    }
   ],
   "source": [
    "cm = confusion_matrix(y_test, y_pred)\n",
    "np.set_printoptions(precision=2)\n",
    "print('Random FOrest Classifier --- Confusion matrix, without normalization')\n",
    "print(cm)\n",
    "#plt.figure()\n",
    "#plot_confusion_matrix(cm)\n",
    "\n",
    "# Normalize the confusion matrix by row (i.e by the number of samples\n",
    "# in each class)\n",
    "cm_normalized = cm.astype('float') / cm.sum(axis=1)[:, np.newaxis]\n",
    "print('Random FOrest Classifier --- Normalized confusion matrix')\n",
    "print(cm_normalized)\n"
   ]
  }
 ],
 "metadata": {
  "kernelspec": {
   "display_name": "Python 2",
   "language": "python",
   "name": "python2"
  },
  "language_info": {
   "codemirror_mode": {
    "name": "ipython",
    "version": 2
   },
   "file_extension": ".py",
   "mimetype": "text/x-python",
   "name": "python",
   "nbconvert_exporter": "python",
   "pygments_lexer": "ipython2",
   "version": "2.7.11"
  }
 },
 "nbformat": 4,
 "nbformat_minor": 0
}
